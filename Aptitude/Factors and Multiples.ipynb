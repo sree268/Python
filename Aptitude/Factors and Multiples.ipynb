{
 "cells": [
  {
   "cell_type": "markdown",
   "id": "8db46edc",
   "metadata": {},
   "source": [
    "## Factors\n",
    "When two or more numbers are multiplied together then resultant value is called their product.  \n",
    "\n",
    "`3 x 4 = 12 and 2 x 7 x 10 = 70`  \n",
    "Here 3 and 4 are said to be factors of 12  \n",
    "2, 7 and 10 are factors of 70.\n",
    "\n",
    "In other words if a number `a` divides `b` by resulting `0` as remainder, then the number `a` is said to be as a factor of `b`."
   ]
  },
  {
   "cell_type": "code",
   "execution_count": 9,
   "id": "3a7fc992",
   "metadata": {},
   "outputs": [],
   "source": [
    "# Function to check if a number is factor of another number\n",
    "def is_factor(divisor, dividend):\n",
    "    if divisor%dividend==0:\n",
    "        return True\n",
    "    return False"
   ]
  },
  {
   "cell_type": "code",
   "execution_count": 11,
   "id": "148e9572",
   "metadata": {},
   "outputs": [
    {
     "data": {
      "text/plain": [
       "True"
      ]
     },
     "execution_count": 11,
     "metadata": {},
     "output_type": "execute_result"
    }
   ],
   "source": [
    "is_factor(10,2)"
   ]
  },
  {
   "cell_type": "code",
   "execution_count": 20,
   "id": "ffec47b7",
   "metadata": {},
   "outputs": [],
   "source": [
    "#Function to obtain factors \n",
    "def factors(num):\n",
    "    front = []\n",
    "    back = []\n",
    "    \n",
    "    for i in range(1,int(num**0.5)+1):\n",
    "        if num%i==0:\n",
    "            front.append(i)\n",
    "            back.append(num//i)\n",
    "    return front+back[::-1]"
   ]
  },
  {
   "cell_type": "code",
   "execution_count": 24,
   "id": "78b7e084",
   "metadata": {},
   "outputs": [
    {
     "data": {
      "text/plain": [
       "[1, 2, 3, 4, 6, 6, 9, 12, 18, 36]"
      ]
     },
     "execution_count": 24,
     "metadata": {},
     "output_type": "execute_result"
    }
   ],
   "source": [
    "factors(36)"
   ]
  },
  {
   "cell_type": "markdown",
   "id": "eccc5925",
   "metadata": {},
   "source": [
    "## Prime Factors\n",
    "If a natural number is expressed as the product of prime numbers, then the factorisation of the number is called its prime factorisation.  \n",
    "Simply factors include only prime numbers"
   ]
  },
  {
   "cell_type": "code",
   "execution_count": 51,
   "id": "9affa13f",
   "metadata": {},
   "outputs": [],
   "source": [
    "# Function to return list of prime factors for a given number\n",
    "def prime_factors(num):\n",
    "    factors = []\n",
    "    \n",
    "    while num%2==0:\n",
    "        factors.append(2)\n",
    "        num //= 2\n",
    "        \n",
    "    for i in range(3, int(num**0.5)+1,2):\n",
    "        \n",
    "        while num%i==0:\n",
    "            factors.append(i)\n",
    "            num //= i\n",
    "            \n",
    "    if num > 2:\n",
    "        factors.append(num)\n",
    "        \n",
    "    return factors"
   ]
  },
  {
   "cell_type": "code",
   "execution_count": 50,
   "id": "267349fd",
   "metadata": {},
   "outputs": [
    {
     "data": {
      "text/plain": [
       "[13, 17, 23, 31]"
      ]
     },
     "execution_count": 50,
     "metadata": {},
     "output_type": "execute_result"
    }
   ],
   "source": [
    "prime_factors(157573)"
   ]
  },
  {
   "cell_type": "markdown",
   "id": "c5074adf",
   "metadata": {},
   "source": [
    "## No. of Factors of a given number\n",
    "\n",
    "Finding total factors of large number is difficult, but still it can be approched by finding prime factors and their powers. Add `1` to every power and multiply all of them,\n",
    "\n",
    "$a^p . b^q . c^r$ are prime factors.  \n",
    "Then total factors = `(p+1).(q+1).(r+1)`"
   ]
  },
  {
   "cell_type": "code",
   "execution_count": 66,
   "id": "be3fbda1",
   "metadata": {},
   "outputs": [],
   "source": [
    "def total_factors(num):\n",
    "    \n",
    "    primes = prime_factors(num)\n",
    "    prime_count = {}\n",
    "    for i in primes:\n",
    "        if i not in prime_count:\n",
    "            prime_count[i] = 2 #added extra one here itself to the power.\n",
    "        else:\n",
    "            prime_count[i]+=1\n",
    "        \n",
    "    total = 1\n",
    "    for i in prime_count.values():\n",
    "        total *= i\n",
    "    \n",
    "    return total"
   ]
  },
  {
   "cell_type": "code",
   "execution_count": 67,
   "id": "93820977",
   "metadata": {},
   "outputs": [
    {
     "data": {
      "text/plain": [
       "32"
      ]
     },
     "execution_count": 67,
     "metadata": {},
     "output_type": "execute_result"
    }
   ],
   "source": [
    "total_factors(18522)"
   ]
  },
  {
   "cell_type": "code",
   "execution_count": null,
   "id": "1b8b1baf",
   "metadata": {},
   "outputs": [],
   "source": []
  }
 ],
 "metadata": {
  "kernelspec": {
   "display_name": "Python 3 (ipykernel)",
   "language": "python",
   "name": "python3"
  },
  "language_info": {
   "codemirror_mode": {
    "name": "ipython",
    "version": 3
   },
   "file_extension": ".py",
   "mimetype": "text/x-python",
   "name": "python",
   "nbconvert_exporter": "python",
   "pygments_lexer": "ipython3",
   "version": "3.11.2"
  }
 },
 "nbformat": 4,
 "nbformat_minor": 5
}
